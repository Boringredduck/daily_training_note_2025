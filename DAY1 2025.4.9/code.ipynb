{
 "cells": [
  {
   "cell_type": "code",
   "execution_count": null,
   "id": "3e1c1c45",
   "metadata": {},
   "outputs": [],
   "source": [
    "# 704. 二分查找 左闭右闭\n",
    "class Solution:\n",
    "    def search(self, nums: list[int], target: int) -> int:\n",
    "        left = 0\n",
    "        right = len(nums)-1\n",
    "        result=-1\n",
    "        while(left<=right):\n",
    "            middle=int((left+right)/2)\n",
    "            if(target<nums[middle]):\n",
    "                right=middle-1\n",
    "            elif(target>nums[middle]):\n",
    "                left=middle+1\n",
    "            else:\n",
    "                result = middle\n",
    "                break\n",
    "        return result\n",
    "\n"
   ]
  },
  {
   "cell_type": "code",
   "execution_count": null,
   "id": "c2c28258",
   "metadata": {},
   "outputs": [],
   "source": [
    "# 704. 二分查找 左闭右开\n",
    "class Solution:\n",
    "    def search(self, nums: list[int], target: int) -> int:\n",
    "        left = 0\n",
    "        right = len(nums)\n",
    "        result=-1\n",
    "        while(left<right):\n",
    "            middle=left+(right-left)//2\n",
    "            if(target<nums[middle]):\n",
    "                right=middle\n",
    "            elif(target>nums[middle]):\n",
    "                left=middle+1\n",
    "            else:\n",
    "                result=middle\n",
    "                break\n",
    "        return result"
   ]
  },
  {
   "cell_type": "code",
   "execution_count": null,
   "id": "0535b293",
   "metadata": {},
   "outputs": [],
   "source": [
    "#27.移除元素 双指针\n",
    "class Solution:\n",
    "    def removeElement(self, nums: list[int], val: int) -> int:\n",
    "        slowIndex,k=0,0\n",
    "        for fastIndex in range(len(nums)):\n",
    "            if(nums[fastIndex]!= val):\n",
    "                nums[slowIndex]=nums[fastIndex]\n",
    "                slowIndex+=1\n",
    "                k+=1\n",
    "        return k"
   ]
  },
  {
   "cell_type": "code",
   "execution_count": null,
   "id": "28fcad2b",
   "metadata": {},
   "outputs": [],
   "source": [
    "#27.移除元素 库函数法\n",
    "class Solution:\n",
    "    def removeElement(self, nums: list[int], val: int) -> int:\n",
    "        counts=nums.count(val)\n",
    "        for i in range(counts):\n",
    "            nums.remove(val)\n",
    "        return len(nums)"
   ]
  },
  {
   "cell_type": "code",
   "execution_count": null,
   "id": "8ed05a5f",
   "metadata": {},
   "outputs": [],
   "source": [
    "#27.移除元素 相向双指针法\n",
    "class Solution:\n",
    "    def removeElement(self, nums: list[int], val: int) -> int:\n",
    "        left,right=0,len(nums)-1\n",
    "        while(left<=right):\n",
    "            while(left<=right and nums[left]!=val):\n",
    "                left+=1\n",
    "            while(left<=right and nums[right]==val):\n",
    "                right-=1\n",
    "            if(left<right):\n",
    "                nums[left]=nums[right]\n",
    "                left+=1\n",
    "                right-=1\n",
    "        return right+1"
   ]
  },
  {
   "cell_type": "code",
   "execution_count": null,
   "id": "e7861163",
   "metadata": {},
   "outputs": [],
   "source": [
    "#977.有序数组的平方\n",
    "class Solution:\n",
    "    def sortedSquares(self, nums: list[int]) -> list[int]:\n",
    "        count=len(nums)\n",
    "        left,right,k = 0,count-1,count-1\n",
    "        new=[0]*count\n",
    "        for i in range(count):\n",
    "            nums[i]*=nums[i]\n",
    "        while(k>=0):\n",
    "            if(nums[left]<nums[right]):\n",
    "                new[k]=nums[right]\n",
    "                right-=1\n",
    "            else:\n",
    "                new[k]=nums[left]\n",
    "                left+=1\n",
    "            k-=1\n",
    "        return new"
   ]
  }
 ],
 "metadata": {
  "kernelspec": {
   "display_name": "base",
   "language": "python",
   "name": "python3"
  },
  "language_info": {
   "codemirror_mode": {
    "name": "ipython",
    "version": 3
   },
   "file_extension": ".py",
   "mimetype": "text/x-python",
   "name": "python",
   "nbconvert_exporter": "python",
   "pygments_lexer": "ipython3",
   "version": "3.10.13"
  }
 },
 "nbformat": 4,
 "nbformat_minor": 5
}
