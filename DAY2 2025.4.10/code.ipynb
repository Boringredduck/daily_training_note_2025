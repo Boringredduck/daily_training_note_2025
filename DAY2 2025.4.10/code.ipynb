{
 "cells": [
  {
   "cell_type": "code",
   "execution_count": null,
   "id": "21bb44d9",
   "metadata": {},
   "outputs": [],
   "source": [
    "#209.长度最小的子数组 滑动窗口\n",
    "class Solution:\n",
    "    def minSubArrayLen(self, target: int, nums: list[int]) -> int:\n",
    "        result=float('inf')\n",
    "        sum,left=0,0\n",
    "        for right in range(len(nums)):\n",
    "            sum+=nums[right]\n",
    "            while(sum>=target):\n",
    "                Sublen=right-left+1\n",
    "                result = min(Sublen,result)\n",
    "                sum-=nums[left]\n",
    "                left+=1\n",
    "        result = result if result != float('inf') else 0\n",
    "        return int(result)\n"
   ]
  },
  {
   "cell_type": "code",
   "execution_count": null,
   "id": "0cbd4ce1",
   "metadata": {},
   "outputs": [],
   "source": [
    "#209.长度最小的子数组 暴力解法\n",
    "class Solution:\n",
    "    def minSubArrayLen(self, target: int, nums: list[int]) -> int:\n",
    "        result=float('inf')\n",
    "        size=len(nums)\n",
    "        for left in range(size):\n",
    "            sum=0\n",
    "            for right in range(left,size):\n",
    "                sum+=nums[right]\n",
    "                if(sum>=target):\n",
    "                    Sublen=right-left+1\n",
    "                    result = Sublen if Sublen<result else result\n",
    "                    break\n",
    "        result = result if result != float('inf') else 0\n",
    "        return int(result)"
   ]
  },
  {
   "cell_type": "code",
   "execution_count": 17,
   "id": "e199aa98",
   "metadata": {},
   "outputs": [
    {
     "name": "stdout",
     "output_type": "stream",
     "text": [
      "[[1, 2, 3], [8, 9, 4], [7, 6, 5]]\n"
     ]
    }
   ],
   "source": [
    "#59.螺旋矩阵\n",
    "class Solution:\n",
    "    def generateMatrix(self, n: int) -> list[list[int]]:\n",
    "        matrix=[[0]*n for _ in range(n)] #待填n*n矩阵\n",
    "        loop=n//2\n",
    "        offset=1\n",
    "        count=1\n",
    "        startx,starty=0,0\n",
    "        while(loop):\n",
    "            loop-=1\n",
    "            i,j=startx,starty\n",
    "            for i in range(startx,n-offset):\n",
    "                matrix[startx][i]=count\n",
    "                count+=1\n",
    "            for i in range(starty,n-offset):\n",
    "                matrix[i][n-offset]=count\n",
    "                count+=1\n",
    "            for i in range(n-offset,starty,-1):\n",
    "                matrix[n-offset][i]=count\n",
    "                count+=1\n",
    "            for i in range(n-offset,startx,-1):\n",
    "                matrix[i][starty]=count\n",
    "                count+=1\n",
    "            offset+=1\n",
    "            startx+=1\n",
    "            starty+=1\n",
    "        if(n%2):\n",
    "            matrix[n//2][n//2]=n*n\n",
    "        return matrix\n",
    "\n",
    "a=Solution()    \n",
    "print(a.generateMatrix(3))\n",
    "\n",
    "\n",
    "        \n"
   ]
  },
  {
   "cell_type": "code",
   "execution_count": null,
   "id": "2b5ddb94",
   "metadata": {},
   "outputs": [
    {
     "name": "stdout",
     "output_type": "stream",
     "text": [
      "hello\n"
     ]
    }
   ],
   "source": [
    "import sys\n",
    "input = sys.stdin.read\n",
    "\n",
    "def add_result()->None:\n",
    "    print(\"hello\")\n",
    "    n=input().split()\n",
    "    vec=[]\n",
    "    p=[]\n",
    "    sum=0\n",
    "    for i in range(n):\n",
    "        temp=input().split()\n",
    "        sum+=temp\n",
    "        vec.append(temp)\n",
    "        p.append(sum)\n",
    "    while(True):\n",
    "        a,b=input.split()\n",
    "        if(a!=0):\n",
    "            print(p[b]-p[a-1])\n",
    "        else:\n",
    "            print(p[b])\n",
    "\n",
    "\n",
    "add_result()\n",
    "\n",
    "    \n",
    "\n",
    "    \n",
    "\n",
    "\n"
   ]
  }
 ],
 "metadata": {
  "kernelspec": {
   "display_name": "base",
   "language": "python",
   "name": "python3"
  },
  "language_info": {
   "codemirror_mode": {
    "name": "ipython",
    "version": 3
   },
   "file_extension": ".py",
   "mimetype": "text/x-python",
   "name": "python",
   "nbconvert_exporter": "python",
   "pygments_lexer": "ipython3",
   "version": "3.10.13"
  }
 },
 "nbformat": 4,
 "nbformat_minor": 5
}
