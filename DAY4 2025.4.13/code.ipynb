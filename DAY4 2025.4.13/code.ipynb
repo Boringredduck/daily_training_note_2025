{
 "cells": [
  {
   "cell_type": "code",
   "execution_count": null,
   "id": "5d05c03a",
   "metadata": {},
   "outputs": [],
   "source": [
    "#24. 两两交换链表中的节点\n",
    "from typing import Optional\n",
    "class ListNode:\n",
    "    def __init__(self, val=0, next=None):\n",
    "        self.val = val\n",
    "        self.next = next\n",
    "class Solution:\n",
    "    def swapPairs(self, head: Optional[ListNode]) -> Optional[ListNode]:\n",
    "        dummyhead=ListNode(val=-1,next=head)\n",
    "        cur=dummyhead\n",
    "        while(cur.next!=None and cur.next.next!=None):\n",
    "            temp1=cur.next\n",
    "            temp2=cur.next.next.next\n",
    "            cur.next=cur.next.next\n",
    "            cur.next.next=temp1\n",
    "            cur.next.next.next=temp2\n",
    "            cur=cur.next.next\n",
    "        return dummyhead.next\n"
   ]
  },
  {
   "cell_type": "code",
   "execution_count": null,
   "id": "e3db1f38",
   "metadata": {},
   "outputs": [],
   "source": [
    "#24. 两两交换链表中的节点 递归实现\n",
    "class Solution:\n",
    "    def swapPairs(self, head: Optional[ListNode]) -> Optional[ListNode]:\n",
    "        if(head==None or head.next==None):\n",
    "            return head\n",
    "        pre=head\n",
    "        cur=head.next\n",
    "        next=head.next.next\n",
    "        cur.next=pre\n",
    "        pre.next=self.swapPairs(head=next)\n",
    "        return cur"
   ]
  },
  {
   "cell_type": "code",
   "execution_count": 1,
   "id": "5ef3b853",
   "metadata": {},
   "outputs": [
    {
     "ename": "NameError",
     "evalue": "name 'Optional' is not defined",
     "output_type": "error",
     "traceback": [
      "\u001b[1;31m---------------------------------------------------------------------------\u001b[0m",
      "\u001b[1;31mNameError\u001b[0m                                 Traceback (most recent call last)",
      "Cell \u001b[1;32mIn[1], line 6\u001b[0m\n\u001b[0;32m      4\u001b[0m         \u001b[38;5;28mself\u001b[39m\u001b[38;5;241m.\u001b[39mval \u001b[38;5;241m=\u001b[39m val\n\u001b[0;32m      5\u001b[0m         \u001b[38;5;28mself\u001b[39m\u001b[38;5;241m.\u001b[39mnext \u001b[38;5;241m=\u001b[39m \u001b[38;5;28mnext\u001b[39m\n\u001b[1;32m----> 6\u001b[0m \u001b[38;5;28;01mclass\u001b[39;00m \u001b[38;5;21;01mSolution\u001b[39;00m:\n\u001b[0;32m      7\u001b[0m     \u001b[38;5;28;01mdef\u001b[39;00m \u001b[38;5;21mremoveNthFromEnd\u001b[39m(\u001b[38;5;28mself\u001b[39m, head: Optional[ListNode], n: \u001b[38;5;28mint\u001b[39m) \u001b[38;5;241m-\u001b[39m\u001b[38;5;241m>\u001b[39m Optional[ListNode]:\n\u001b[0;32m      8\u001b[0m         dummyhead\u001b[38;5;241m=\u001b[39mListNode(val\u001b[38;5;241m=\u001b[39m\u001b[38;5;241m-\u001b[39m\u001b[38;5;241m1\u001b[39m,\u001b[38;5;28mnext\u001b[39m\u001b[38;5;241m=\u001b[39mhead)\n",
      "Cell \u001b[1;32mIn[1], line 7\u001b[0m, in \u001b[0;36mSolution\u001b[1;34m()\u001b[0m\n\u001b[0;32m      6\u001b[0m \u001b[38;5;28;01mclass\u001b[39;00m \u001b[38;5;21;01mSolution\u001b[39;00m:\n\u001b[1;32m----> 7\u001b[0m     \u001b[38;5;28;01mdef\u001b[39;00m \u001b[38;5;21mremoveNthFromEnd\u001b[39m(\u001b[38;5;28mself\u001b[39m, head: \u001b[43mOptional\u001b[49m[ListNode], n: \u001b[38;5;28mint\u001b[39m) \u001b[38;5;241m-\u001b[39m\u001b[38;5;241m>\u001b[39m Optional[ListNode]:\n\u001b[0;32m      8\u001b[0m         dummyhead\u001b[38;5;241m=\u001b[39mListNode(val\u001b[38;5;241m=\u001b[39m\u001b[38;5;241m-\u001b[39m\u001b[38;5;241m1\u001b[39m,\u001b[38;5;28mnext\u001b[39m\u001b[38;5;241m=\u001b[39mhead)\n\u001b[0;32m      9\u001b[0m         fast,slow\u001b[38;5;241m=\u001b[39mdummyhead,dummyhead\n",
      "\u001b[1;31mNameError\u001b[0m: name 'Optional' is not defined"
     ]
    }
   ],
   "source": [
    "#19.删除链表的倒数第N个节点\n",
    "class ListNode:\n",
    "    def __init__(self, val=0, next=None):\n",
    "        self.val = val\n",
    "        self.next = next\n",
    "class Solution:\n",
    "    def removeNthFromEnd(self, head: Optional[ListNode], n: int) -> Optional[ListNode]:\n",
    "        dummyhead=ListNode(val=-1,next=head)\n",
    "        fast,slow=dummyhead,dummyhead\n",
    "        while(fast!=None and n+1):\n",
    "            n-=1\n",
    "            fast=fast.next\n",
    "        while(fast!=None):\n",
    "            slow=slow.next\n",
    "            fast=fast.next\n",
    "        slow.next=slow.next.next\n",
    "        return dummyhead.next\n"
   ]
  },
  {
   "cell_type": "code",
   "execution_count": null,
   "id": "68a057e8",
   "metadata": {},
   "outputs": [],
   "source": [
    "#面试题 02.07. 链表相交\n",
    "class ListNode:\n",
    "    def __init__(self, val=0, next=None):\n",
    "        self.val = val\n",
    "        self.next = next\n",
    "class Solution:\n",
    "    def getIntersectionNode(self, headA: ListNode, headB: ListNode) -> ListNode:\n",
    "        curA=headA\n",
    "        curB=headB\n",
    "        sizeA,sizeB=0,0\n",
    "        while(curA):\n",
    "            sizeA+=1\n",
    "            curA=curA.next\n",
    "        while(curB):\n",
    "            sizeB+=1\n",
    "            curB=curB.next\n",
    "        curA,curB=headA,headB\n",
    "        if(sizeA<sizeB):\n",
    "            sizeA,sizeB=sizeB,sizeA\n",
    "            curA,curB=curB,curA\n",
    "        gap=sizeA-sizeB\n",
    "        for _ in range(gap):\n",
    "            curA=curA.next\n",
    "        while(curA):\n",
    "            if(curA==curB):\n",
    "                return curA\n",
    "            curA=curA.next\n",
    "            curB=curB.next\n",
    "        return None"
   ]
  },
  {
   "cell_type": "code",
   "execution_count": null,
   "id": "fb197f43",
   "metadata": {},
   "outputs": [
    {
     "name": "stdout",
     "output_type": "stream",
     "text": [
      "a:10 b:5\n"
     ]
    }
   ],
   "source": [
    "#python,元组解包\n",
    "a=5\n",
    "b=10\n",
    "\n",
    "a,b=b,a\n",
    "print(\"a:{}\".format(a),end=\" \")\n",
    "print(\"b:{}\".format(b))"
   ]
  },
  {
   "cell_type": "code",
   "execution_count": null,
   "id": "60839f1d",
   "metadata": {},
   "outputs": [],
   "source": [
    "#面试题 02.07. 链表相交 非常有意思的等比例法\n",
    "class Solution:\n",
    "    def getIntersectionNode(self, headA: ListNode, headB: ListNode) -> ListNode:\n",
    "        if(not headA or not headB):\n",
    "            return\n",
    "        pointerA=headA\n",
    "        pointerB=headB\n",
    "        while(pointerA!=pointerB):\n",
    "            pointerA=pointerA.next if pointerA else headB\n",
    "            pointerB=pointerB.next if pointerB else headA\n",
    "        return pointerA\n",
    "            "
   ]
  },
  {
   "cell_type": "code",
   "execution_count": null,
   "id": "20e53715",
   "metadata": {},
   "outputs": [],
   "source": [
    "# 142.环形链表II\n",
    "class Solution:\n",
    "    def detectCycle(self, head: Optional[ListNode]) -> Optional[ListNode]:\n",
    "        fast,slow=head,head\n",
    "        while(fast!=None and fast.next!=None):\n",
    "            slow=slow.next\n",
    "            fast=fast.next.next\n",
    "            if(fast==slow):\n",
    "                index1=fast\n",
    "                index2=head\n",
    "                while(index1!=index2):\n",
    "                    index1=index1.next\n",
    "                    index2=index2.next\n",
    "                return index1\n",
    "        return None"
   ]
  },
  {
   "cell_type": "code",
   "execution_count": null,
   "id": "13ed794b",
   "metadata": {},
   "outputs": [],
   "source": [
    "# 142.环形链表II 集合法\n",
    "class Solution:\n",
    "    def detectCycle(self, head: Optional[ListNode]) -> Optional[ListNode]:\n",
    "        visited=set()\n",
    "        while head:\n",
    "            if head not in visited:\n",
    "                visited.add(head)\n",
    "                head=head.next\n",
    "            else:\n",
    "                return head\n",
    "        return None\n",
    "            "
   ]
  }
 ],
 "metadata": {
  "kernelspec": {
   "display_name": "base",
   "language": "python",
   "name": "python3"
  },
  "language_info": {
   "codemirror_mode": {
    "name": "ipython",
    "version": 3
   },
   "file_extension": ".py",
   "mimetype": "text/x-python",
   "name": "python",
   "nbconvert_exporter": "python",
   "pygments_lexer": "ipython3",
   "version": "3.10.13"
  }
 },
 "nbformat": 4,
 "nbformat_minor": 5
}
